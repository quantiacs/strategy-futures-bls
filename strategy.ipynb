{
 "cells": [
  {
   "cell_type": "markdown",
   "id": "public-litigation",
   "metadata": {},
   "source": [
    "# Using BLS Data\n",
    "\n",
    "The [**U.S. Bureau of Labor Statistics**](https://www.bls.gov) is the principal agency for the U.S. government in the field of labor economics and statistics. It provides macroeconomic data in several interesting categories: prices, employment and unemployment, compensation and working conditions and productivity.\n",
    "\n",
    "Quantiacs has implemented these datasets on its cloud and makes them also available for local use on your machine.\n",
    "\n",
    "In this template we show how to use the BLS data for creating a trading algorithm.\n",
    "\n",
    "**Need help?** Check the [**Documentation**](https://quantiacs.com/documentation/en/) and find solutions/report problems in the [**Forum**](https://quantiacs.com/community/categories) section.\n",
    "\n",
    "**More help with Jupyter?** Check the official [**Jupyter**](https://jupyter.org/) page.\n",
    "\n",
    "**Check the BLS documentation** on the Quantiacs [**macroeconomics help page**](https://quantiacs.com/documentation/en/user_guide/macro.html).\n",
    "\n",
    "Once you are done, click on **Submit to the contest** and take part to our competitions.\n",
    "\n",
    "API reference:\n",
    "\n",
    "* **data**: check how to work with [data](https://quantiacs.com/documentation/en/reference/data_load_functions.html);\n",
    "\n",
    "* **backtesting**: read how to run the [simulation](https://quantiacs.com/documentation/en/reference/evaluation.html) and check the results.\n",
    "\n",
    "Need to use the optimizer function to automate tedious tasks?\n",
    "\n",
    "* **optimization**: read more on our [article](https://quantiacs.com/community/topic/29/optimizing-and-monitoring-a-trading-system-with-quantiacs)."
   ]
  },
  {
   "cell_type": "code",
   "execution_count": null,
   "id": "voluntary-ocean",
   "metadata": {},
   "outputs": [],
   "source": [
    "import pandas as pd\n",
    "import numpy as np\n",
    "\n",
    "import qnt.data as qndata"
   ]
  },
  {
   "cell_type": "code",
   "execution_count": null,
   "id": "medium-biodiversity",
   "metadata": {},
   "outputs": [],
   "source": [
    "%%javascript\n",
    "window.IPython && (IPython.OutputArea.prototype._should_scroll = function(lines) { return false; })\n",
    "// disable widget scrolling"
   ]
  },
  {
   "cell_type": "markdown",
   "id": "explicit-samoa",
   "metadata": {},
   "source": [
    "First of all we list the 34 available datasets and inspect them:"
   ]
  },
  {
   "cell_type": "code",
   "execution_count": null,
   "id": "olive-bahrain",
   "metadata": {},
   "outputs": [],
   "source": [
    "dbs = qndata.blsgov.load_db_list()\n",
    "\n",
    "display(pd.DataFrame(dbs)) # convert to pandas for better formatting"
   ]
  },
  {
   "cell_type": "markdown",
   "id": "known-helen",
   "metadata": {},
   "source": [
    "For each dataset you can see the identifier, the name and the date of the last available update. Each dataset contains several time series which can be used as indicators.\n",
    "\n",
    "In this example we use `AP`. Average consumer Prices are calculated for household fuel, motor fuel and food items from prices collected for the Consumer Price Index (CPI). The full description is available in the [metadata](#Inspect-the-metadata).\n",
    "\n",
    "Let us load and display the time series contained in the `AP` dataset:"
   ]
  },
  {
   "cell_type": "code",
   "execution_count": null,
   "id": "surface-context",
   "metadata": {},
   "outputs": [],
   "source": [
    "series_list = list(qndata.blsgov.load_series_list('AP'))\n",
    "\n",
    "display(pd.DataFrame(series_list).set_index('id')) # convert to pandas for better formatting"
   ]
  },
  {
   "cell_type": "markdown",
   "id": "mexican-region",
   "metadata": {},
   "source": [
    "As you see, the `AP` Average Price Data dataset contains 1479 time series.\n",
    "\n",
    "Let us see how we can learn the meaning of the 8 columns. Some of them are obvious, like `series_title`, `begin_year` or `end_year`, but others are not, like `area_code`, `item_code`, `begin_period`, `end_period`.\n",
    "\n",
    "### Inspect the metadata\n",
    "\n",
    "The Quantiacs toolbox allows you to inspect the meaning of all fields:"
   ]
  },
  {
   "cell_type": "code",
   "execution_count": null,
   "id": "understanding-lingerie",
   "metadata": {},
   "outputs": [],
   "source": [
    "meta = qndata.blsgov.load_db_meta('AP')\n",
    "\n",
    "for k in meta.keys():\n",
    "    print('### ' + k + \" ###\")\n",
    "    m = meta[k]\n",
    "    \n",
    "    if type(m) == str:\n",
    "        # Show only the first line if this is a text entry.\n",
    "        print(m.split('\\n')[0])\n",
    "        print('...')\n",
    "        # Uncomment the next line to see the full text. It will give you more details about the database.\n",
    "        # print(m) \n",
    "\n",
    "    if type(m) == dict:\n",
    "        # convert dictionaries to pandas DataFrame for better formatting:\n",
    "        df = pd.DataFrame(meta[k].values())\n",
    "        df = df.set_index(np.array(list(meta[k].keys())))\n",
    "        display(df)"
   ]
  },
  {
   "cell_type": "markdown",
   "id": "vietnamese-graham",
   "metadata": {},
   "source": [
    "These tables allows you to quickly understand the meaning of the fields for each times series in the Average Price Data.\n",
    "\n",
    "The `area_code` column reflects the U.S. area connected to the time series, for example 0000 for the entire U.S.\n",
    "\n",
    "Let us select only time series related to the entire U.S.:"
   ]
  },
  {
   "cell_type": "code",
   "execution_count": null,
   "id": "anonymous-venture",
   "metadata": {},
   "outputs": [],
   "source": [
    "us_series_list = [s for s in series_list if s['area_code'] == '0000']\n",
    "\n",
    "display(pd.DataFrame(us_series_list).set_index('id')) # convert to pandas for better formatting"
   ]
  },
  {
   "cell_type": "markdown",
   "id": "framed-friendly",
   "metadata": {},
   "source": [
    "We have 160 time series out of the original 1479. These are global U.S. time series which are more relevant for forecasting global financial markets. Let us select time series which are currently being updated and have at least 20 years of history:"
   ]
  },
  {
   "cell_type": "code",
   "execution_count": null,
   "id": "outer-marshall",
   "metadata": {},
   "outputs": [],
   "source": [
    "actual_us_series_list = [s for s in us_series_list if s['begin_year'] <= '2000' and s['end_year'] == '2021' ]\n",
    "\n",
    "display(pd.DataFrame(actual_us_series_list).set_index('id')) # convert to pandas for better formatting"
   ]
  },
  {
   "cell_type": "code",
   "execution_count": null,
   "id": "impressed-disposition",
   "metadata": {},
   "outputs": [],
   "source": [
    "len(actual_us_series_list)"
   ]
  },
  {
   "cell_type": "markdown",
   "id": "ceramic-entrance",
   "metadata": {},
   "source": [
    "We have 55 time series whose history is long enough for our purpose. Now we can load one of these series and use it for our strategy. Let us focus on energy markets. We consider fuel oil `APU000072511` on a monthly basis:"
   ]
  },
  {
   "cell_type": "code",
   "execution_count": null,
   "id": "offshore-second",
   "metadata": {},
   "outputs": [],
   "source": [
    "series_data = qndata.blsgov.load_series_data('APU000072511', tail = 30*365)\n",
    "\n",
    "# convert to pandas.DataFrame\n",
    "series_data = pd.DataFrame(series_data)\n",
    "series_data = series_data.set_index('pub_date')\n",
    "\n",
    "# remove yearly average data, see period dictionary\n",
    "series_data = series_data[series_data['period'] != 'M13']\n",
    "\n",
    "series_data"
   ]
  },
  {
   "cell_type": "markdown",
   "id": "exact-samoa",
   "metadata": {},
   "source": [
    "Next, let us consider Futures contracts in the Energy sector:"
   ]
  },
  {
   "cell_type": "code",
   "execution_count": null,
   "id": "psychological-abraham",
   "metadata": {},
   "outputs": [],
   "source": [
    "futures_list = qndata.futures_load_list()\n",
    "\n",
    "energy_futures_list = [f for f in futures_list if f['sector'] == 'Energy']\n",
    "\n",
    "pd.DataFrame(energy_futures_list)"
   ]
  },
  {
   "cell_type": "markdown",
   "id": "weighted-coordination",
   "metadata": {},
   "source": [
    "We consider Brent Crude Oil, `F_BC`, and define a strategy using a multi-pass approach:"
   ]
  },
  {
   "cell_type": "code",
   "execution_count": null,
   "id": "recognized-fellowship",
   "metadata": {
    "scrolled": false
   },
   "outputs": [],
   "source": [
    "import xarray as xr\n",
    "import numpy as np\n",
    "import pandas as pd\n",
    "\n",
    "import qnt.ta as qnta\n",
    "import qnt.backtester as qnbt\n",
    "import qnt.data as qndata\n",
    "\n",
    "\n",
    "def load_data(period):\n",
    "    \n",
    "    futures = qndata.futures_load_data(assets=['F_BC'], tail=period, dims=('time','field','asset'))\n",
    "    \n",
    "    ap = qndata.blsgov.load_series_data('APU000072511', tail=period)\n",
    "    \n",
    "    # convert to pandas.DataFrame\n",
    "    ap = pd.DataFrame(ap) \n",
    "    ap = ap.set_index('pub_date') \n",
    "\n",
    "    # remove yearly average data, see period dictionary\n",
    "    ap = ap[ap['period'] != 'M13']\n",
    "    \n",
    "    # convert to xarray\n",
    "    ap = ap['value'].to_xarray().rename(pub_date='time').assign_coords(time=pd.to_datetime(ap.index.values))\n",
    "    \n",
    "    # return both time series\n",
    "    return dict(ap=ap, futures=futures), futures.time.values\n",
    "\n",
    "\n",
    "def window(data, max_date: np.datetime64, lookback_period: int):\n",
    "    # the window function isolates data which are needed for one iteration\n",
    "    # of the backtester call\n",
    "    \n",
    "    min_date = max_date - np.timedelta64(lookback_period, 'D')\n",
    "    \n",
    "    return dict(\n",
    "        futures = data['futures'].sel(time=slice(min_date, max_date)),\n",
    "        ap = data['ap'].sel(time=slice(min_date, max_date))\n",
    "    )\n",
    "\n",
    "\n",
    "def strategy(data, state):\n",
    "    \n",
    "    close = data['futures'].sel(field='close')\n",
    "    ap = data['ap']\n",
    "    \n",
    "    # the strategy complements indicators based on the Futures price with macro data\n",
    "    # and goes long/short or takes no exposure:\n",
    "    \n",
    "    if ap.isel(time=-1) > ap.isel(time=-2) \\\n",
    "            and close.isel(time=-1) > close.isel(time=-20):\n",
    "        return xr.ones_like(close.isel(time=-1)), 1\n",
    "    \n",
    "    elif ap.isel(time=-1) < ap.isel(time=-2) \\\n",
    "            and ap.isel(time=-2) < ap.isel(time=-3) \\\n",
    "            and ap.isel(time=-3) < ap.isel(time=-4) \\\n",
    "            and close.isel(time=-1) < close.isel(time=-40):\n",
    "        return -xr.ones_like(close.isel(time=-1)), 1 \n",
    "    \n",
    "    # When the state is None, we are in the beginning and no weights were generated.\n",
    "    # We use buy'n'hold to fill these first days.\n",
    "    elif state is None: \n",
    "        return xr.ones_like(close.isel(time=-1)), None\n",
    "    \n",
    "    else:\n",
    "        return xr.zeros_like(close.isel(time=-1)), 1\n",
    "\n",
    "\n",
    "weights, state = qnbt.backtest(\n",
    "    competition_type='futures',\n",
    "    load_data=load_data,\n",
    "    window=window,\n",
    "    lookback_period=365,\n",
    "    start_date=\"2006-01-01\",\n",
    "    strategy=strategy,\n",
    "    analyze=True,\n",
    "    build_plots=True\n",
    ")"
   ]
  }
 ],
 "metadata": {
  "kernelspec": {
   "display_name": "Python 3",
   "language": "python",
   "name": "python3"
  },
  "language_info": {
   "codemirror_mode": {
    "name": "ipython",
    "version": 3
   },
   "file_extension": ".py",
   "mimetype": "text/x-python",
   "name": "python",
   "nbconvert_exporter": "python",
   "pygments_lexer": "ipython3",
   "version": "3.7.10"
  }
 },
 "nbformat": 4,
 "nbformat_minor": 5
}
